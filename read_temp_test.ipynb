{
 "cells": [
  {
   "cell_type": "code",
   "execution_count": 30,
   "metadata": {},
   "outputs": [],
   "source": [
    "def readTemp(telconn, fpga, register_start):\n",
    "    register = hex(int(register_start,16))\n",
    "    for x in range(7):\n",
    "        reg_str = str(register)\n",
    "        pmed_cmd = 'pmed --' + fpga + ' -a ' + register + ' -r 1'\n",
    "        expect_line = '0x00000' + reg_str[-3:] + ':'\n",
    "        telconn.sendline(pmed_cmd)\n",
    "        try:\n",
    "            telconn.expect(expect_line, timeout=2)\n",
    "        except:\n",
    "            print(\"Unable to read register: \" + register)\n",
    "        result1 = telconn1.readline()\n",
    "        print(\"Channel \" + str(x) + \": \" + str(result1[1:11].decode('utf-8')))\n",
    "        register = hex(int(register, 16) + 4)"
   ]
  },
  {
   "cell_type": "code",
   "execution_count": 31,
   "metadata": {},
   "outputs": [
    {
     "name": "stdout",
     "output_type": "stream",
     "text": [
      "pmed --txbb -a 0x5ac -r 1\n",
      "0x000005ac:\n",
      "pmed --txbb -a 0x5b0 -r 1\n",
      "0x000005b0:\n",
      "pmed --txbb -a 0x5b4 -r 1\n",
      "0x000005b4:\n",
      "pmed --txbb -a 0x5b8 -r 1\n",
      "0x000005b8:\n",
      "pmed --txbb -a 0x5bc -r 1\n",
      "0x000005bc:\n",
      "pmed --txbb -a 0x5c0 -r 1\n",
      "0x000005c0:\n",
      "pmed --txbb -a 0x5c4 -r 1\n",
      "0x000005c4:\n"
     ]
    }
   ],
   "source": [
    "telcon1 = 1\n",
    "readTemp(telcon1, 'txbb', '5ac')"
   ]
  },
  {
   "cell_type": "code",
   "execution_count": 32,
   "metadata": {},
   "outputs": [
    {
     "name": "stdout",
     "output_type": "stream",
     "text": [
      "pmed --ch -a 0xbe0 -r 1\n",
      "0x00000be0:\n",
      "pmed --ch -a 0xbe4 -r 1\n",
      "0x00000be4:\n",
      "pmed --ch -a 0xbe8 -r 1\n",
      "0x00000be8:\n",
      "pmed --ch -a 0xbec -r 1\n",
      "0x00000bec:\n",
      "pmed --ch -a 0xbf0 -r 1\n",
      "0x00000bf0:\n",
      "pmed --ch -a 0xbf4 -r 1\n",
      "0x00000bf4:\n",
      "pmed --ch -a 0xbf8 -r 1\n",
      "0x00000bf8:\n"
     ]
    }
   ],
   "source": [
    "readTemp(telcon1, 'ch', 'be0')"
   ]
  },
  {
   "cell_type": "code",
   "execution_count": 33,
   "metadata": {},
   "outputs": [
    {
     "name": "stdout",
     "output_type": "stream",
     "text": [
      "pmed --ba -a 0xa0c -r 1\n",
      "0x00000a0c:\n",
      "pmed --ba -a 0xa10 -r 1\n",
      "0x00000a10:\n",
      "pmed --ba -a 0xa14 -r 1\n",
      "0x00000a14:\n",
      "pmed --ba -a 0xa18 -r 1\n",
      "0x00000a18:\n",
      "pmed --ba -a 0xa1c -r 1\n",
      "0x00000a1c:\n",
      "pmed --ba -a 0xa20 -r 1\n",
      "0x00000a20:\n",
      "pmed --ba -a 0xa24 -r 1\n",
      "0x00000a24:\n"
     ]
    }
   ],
   "source": [
    "readTemp(telcon1, 'ba', 'a0c')"
   ]
  },
  {
   "cell_type": "code",
   "execution_count": 35,
   "metadata": {},
   "outputs": [
    {
     "data": {
      "text/plain": [
       "64.25"
      ]
     },
     "execution_count": 35,
     "metadata": {},
     "output_type": "execute_result"
    }
   ],
   "source": [
    "int(257.55)/4"
   ]
  },
  {
   "cell_type": "code",
   "execution_count": null,
   "metadata": {},
   "outputs": [],
   "source": []
  }
 ],
 "metadata": {
  "kernelspec": {
   "display_name": "Python 3",
   "language": "python",
   "name": "python3"
  },
  "language_info": {
   "codemirror_mode": {
    "name": "ipython",
    "version": 3
   },
   "file_extension": ".py",
   "mimetype": "text/x-python",
   "name": "python",
   "nbconvert_exporter": "python",
   "pygments_lexer": "ipython3",
   "version": "3.6.5"
  }
 },
 "nbformat": 4,
 "nbformat_minor": 2
}
