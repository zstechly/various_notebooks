{
 "cells": [
  {
   "cell_type": "code",
   "execution_count": 3,
   "metadata": {},
   "outputs": [],
   "source": [
    "%matplotlib inline\n",
    "import numpy as np\n",
    "from matplotlib import pyplot as plt\n",
    "from scipy import signal, fftpack"
   ]
  },
  {
   "cell_type": "code",
   "execution_count": 4,
   "metadata": {},
   "outputs": [
    {
     "name": "stdout",
     "output_type": "stream",
     "text": [
      "4105.0\n"
     ]
    }
   ],
   "source": [
    "# create a test signal\n",
    "N = 2*2621440*4\n",
    "Fs = 5.125e9\n",
    "F = 1e9\n",
    "t = np.arange(N)\n",
    "sig_in = 4095*(np.cos(2*np.pi*F/Fs*t)) + 10\n",
    "#sig_in = 1024*np.random.randn(N) + 16\n",
    "#sig_in = np.floor(sig_in)\n",
    "print(max(sig_in))"
   ]
  },
  {
   "cell_type": "code",
   "execution_count": 187,
   "metadata": {},
   "outputs": [
    {
     "name": "stdout",
     "output_type": "stream",
     "text": [
      "10250.0\n"
     ]
    }
   ],
   "source": [
    "# multi tone\n",
    "f_array = np.linspace(-2.5e9,-500e6,10)\n",
    "sig_in = np.zeros(N)\n",
    "for item in f_array:\n",
    "    sig_in = sig_in + 1024*(np.cos(2*np.pi*item/Fs*t))\n",
    "sig_in = sig_in + 10\n",
    "sig_in = np.floor(sig_in)\n",
    "print(max(sig_in))"
   ]
  },
  {
   "cell_type": "code",
   "execution_count": 1,
   "metadata": {},
   "outputs": [],
   "source": [
    "def removeDCOffset(sig_in):\n",
    "    # model the filter\n",
    "    N = sig_in.size\n",
    "    accum = np.zeros(N)\n",
    "    offset = np.zeros(N)\n",
    "    gain = 100\n",
    "    samp_out = np.zeros(N)\n",
    "    accum[-1] = 2**21\n",
    "\n",
    "    # make the loop\n",
    "    for x, item in enumerate(sig_in):\n",
    "        offset[x] = np.floor(accum[x-1] / 2**21)\n",
    "        samp_out[x] = item - offset[x]\n",
    "        if (samp_out[x] > 0):\n",
    "            accum[x] = accum[x-1] + gain\n",
    "        else:\n",
    "            accum[x] = accum[x-1] - gain\n",
    "    return samp_out, offset"
   ]
  },
  {
   "cell_type": "code",
   "execution_count": 5,
   "metadata": {},
   "outputs": [],
   "source": [
    "\n",
    "samp_out = removeDCOffset(sig_in)\n",
    "        "
   ]
  },
  {
   "cell_type": "code",
   "execution_count": 251,
   "metadata": {},
   "outputs": [
    {
     "data": {
      "text/plain": [
       "(50, 150)"
      ]
     },
     "execution_count": 251,
     "metadata": {},
     "output_type": "execute_result"
    },
    {
     "data": {
      "image/png": "[encoded data removed]",
      "text/plain": [
       "<Figure size 432x288 with 1 Axes>"
      ]
     },
     "metadata": {},
     "output_type": "display_data"
    }
   ],
   "source": [
    "# plot things\n",
    "plt.figure()\n",
    "plt.plot(20*np.log10(np.abs(fftpack.fftshift(fftpack.fft(sig_in[-512:])))))\n",
    "plt.grid(True)\n",
    "plt.xlabel('bins')\n",
    "plt.ylabel('dB')\n",
    "plt.title('Input')\n",
    "plt.ylim(50,150)"
   ]
  },
  {
   "cell_type": "code",
   "execution_count": null,
   "metadata": {},
   "outputs": [],
   "source": [
    "# plot things\n",
    "plt.figure()\n",
    "plt.plot(20*np.log10(np.abs(fftpack.fftshift(fftpack.fft(samp_out[-512:])))))\n",
    "plt.grid(True)\n",
    "plt.xlabel('bins')\n",
    "plt.ylabel('dB')\n",
    "plt.title('Output')\n",
    "plt.ylim(50,150)"
   ]
  },
  {
   "cell_type": "code",
   "execution_count": null,
   "metadata": {},
   "outputs": [],
   "source": []
  }
 ],
 "metadata": {
  "kernelspec": {
   "display_name": "Python 3",
   "language": "python",
   "name": "python3"
  },
  "language_info": {
   "codemirror_mode": {
    "name": "ipython",
    "version": 3
   },
   "file_extension": ".py",
   "mimetype": "text/x-python",
   "name": "python",
   "nbconvert_exporter": "python",
   "pygments_lexer": "ipython3",
   "version": "3.6.5"
  }
 },
 "nbformat": 4,
 "nbformat_minor": 2
}
