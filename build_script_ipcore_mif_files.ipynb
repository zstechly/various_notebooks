{
 "cells": [
  {
   "cell_type": "code",
   "execution_count": 24,
   "metadata": {},
   "outputs": [],
   "source": [
    "import re\n",
    "file_in = open('cosine_lut_1024x16.xml', 'r')\n",
    "file_out = open('cosine_lut_1024x16.ip', 'w')\n",
    "line_of_interest_counter = 0\n",
    "line_found = False;\n",
    "front_end = '          <ipxact:value>'\n",
    "back_end = '</ipxact:value>\\n'\n",
    "\n",
    "for line in file_in:\n",
    "    if line.find('parameterId=\"GUI_MIF_FILENAME\"') > 0:\n",
    "        line_found = True\n",
    "    if (line_found):\n",
    "        line_of_interest_counter = line_of_interest_counter + 1\n",
    "    if (line_of_interest_counter == 4):\n",
    "        m = re.search('>(.+?)<', line)\n",
    "        file_name = m.group(1)\n",
    "        file_name_only = file_name.split('/')\n",
    "        file_name = file_name_only[1]\n",
    "        final_string = front_end + '../../../ip_cores/' + file_name + back_end\n",
    "        file_out.write(final_string)\n",
    "    else:\n",
    "        file_out.write(line)\n",
    "        \n",
    "       \n",
    "file_in.close()\n",
    "file_out.close()"
   ]
  },
  {
   "cell_type": "code",
   "execution_count": null,
   "metadata": {},
   "outputs": [],
   "source": []
  }
 ],
 "metadata": {
  "kernelspec": {
   "display_name": "Python 3",
   "language": "python",
   "name": "python3"
  },
  "language_info": {
   "codemirror_mode": {
    "name": "ipython",
    "version": 3
   },
   "file_extension": ".py",
   "mimetype": "text/x-python",
   "name": "python",
   "nbconvert_exporter": "python",
   "pygments_lexer": "ipython3",
   "version": "3.6.5"
  }
 },
 "nbformat": 4,
 "nbformat_minor": 2
}
