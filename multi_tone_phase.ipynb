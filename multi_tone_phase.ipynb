{
 "cells": [
  {
   "cell_type": "code",
   "execution_count": 3,
   "metadata": {},
   "outputs": [],
   "source": [
    "from matplotlib import pyplot as plt\n",
    "import numpy as np\n",
    "from scipy import signal, fftpack"
   ]
  },
  {
   "cell_type": "code",
   "execution_count": 15,
   "metadata": {},
   "outputs": [],
   "source": [
    "Fs = 1.28125e9\n",
    "N_samples = 131072;\n",
    "fundamental_freq = Fs/(N_samples-1)\n",
    "freq_desired = np.linspace(-300e6,300e6,61)\n",
    "freq_realistic = np.floor(freq_desired / fundamental_freq) * fundamental_freq\n",
    "t = np.arange(N_samples)"
   ]
  },
  {
   "cell_type": "code",
   "execution_count": 14,
   "metadata": {},
   "outputs": [
    {
     "data": {
      "text/plain": [
       "array([-3.00002003e+08, -2.90001936e+08, -2.80001869e+08, -2.70001802e+08,\n",
       "       -2.60001736e+08, -2.50001669e+08, -2.40001602e+08, -2.30001535e+08,\n",
       "       -2.20001469e+08, -2.10001402e+08, -2.00001335e+08, -1.90001268e+08,\n",
       "       -1.80001202e+08, -1.70001135e+08, -1.60001068e+08, -1.50001001e+08,\n",
       "       -1.40000935e+08, -1.30000868e+08, -1.20000801e+08, -1.10000734e+08,\n",
       "       -1.00000668e+08, -9.00006008e+07, -8.00005341e+07, -7.00004673e+07,\n",
       "       -6.00004005e+07, -5.00003338e+07, -4.00002670e+07, -3.00002003e+07,\n",
       "       -2.00001335e+07, -1.00000668e+07,  0.00000000e+00,  9.99029152e+06,\n",
       "        1.99903583e+07,  2.99904250e+07,  3.99904918e+07,  4.99905586e+07,\n",
       "        5.99906253e+07,  6.99906921e+07,  7.99907588e+07,  8.99908256e+07,\n",
       "        9.99908923e+07,  1.09990959e+08,  1.19991026e+08,  1.29991093e+08,\n",
       "        1.39991159e+08,  1.49991226e+08,  1.59991293e+08,  1.69991360e+08,\n",
       "        1.79991426e+08,  1.89991493e+08,  1.99991560e+08,  2.09991627e+08,\n",
       "        2.19991693e+08,  2.29991760e+08,  2.39991827e+08,  2.49991894e+08,\n",
       "        2.59991960e+08,  2.69992027e+08,  2.79992094e+08,  2.89992161e+08,\n",
       "        2.99992227e+08])"
      ]
     },
     "execution_count": 14,
     "metadata": {},
     "output_type": "execute_result"
    }
   ],
   "source": [
    "freq_realistic"
   ]
  },
  {
   "cell_type": "code",
   "execution_count": 24,
   "metadata": {},
   "outputs": [],
   "source": [
    "sig_out = np.zeros(N_samples)\n",
    "for x, freq in enumerate(freq_realistic):\n",
    "    sig_out = sig_out + np.cos(2*np.pi*freq/Fs*t) + 1j*np.sin(2*np.pi*freq/Fs*t)"
   ]
  },
  {
   "cell_type": "code",
   "execution_count": 27,
   "metadata": {},
   "outputs": [
    {
     "data": {
      "image/png": "[encoded data removed]",
      "text/plain": [
       "<Figure size 432x288 with 1 Axes>"
      ]
     },
     "metadata": {},
     "output_type": "display_data"
    }
   ],
   "source": [
    "freq_axis = np.linspace(-Fs/2, Fs/2, N_samples)\n",
    "plt.plot(freq_axis, 20*np.log10(np.abs(fftpack.fftshift(fftpack.fft(sig_out)))))\n",
    "plt.grid(True)\n"
   ]
  },
  {
   "cell_type": "code",
   "execution_count": 29,
   "metadata": {},
   "outputs": [
    {
     "data": {
      "text/plain": [
       "(10000+2.910550095701861e-08j)"
      ]
     },
     "execution_count": 29,
     "metadata": {},
     "output_type": "execute_result"
    }
   ],
   "source": [
    "np.max(10000/61*sig_out)"
   ]
  },
  {
   "cell_type": "code",
   "execution_count": 33,
   "metadata": {},
   "outputs": [],
   "source": [
    "#converting to fixed point\n",
    "sig_out = 10000/61*sig_out"
   ]
  },
  {
   "cell_type": "code",
   "execution_count": 35,
   "metadata": {},
   "outputs": [],
   "source": [
    "sig_out = np.floor(np.real(sig_out)) + 1j*np.floor(np.imag(sig_out))"
   ]
  },
  {
   "cell_type": "code",
   "execution_count": 36,
   "metadata": {},
   "outputs": [
    {
     "data": {
      "text/plain": [
       "array([10000.+0.j,  6667.-1.j,   500.-1.j, ...,   500.+0.j,  6667.+0.j,\n",
       "       10000.+0.j])"
      ]
     },
     "execution_count": 36,
     "metadata": {},
     "output_type": "execute_result"
    }
   ],
   "source": [
    "sig_out"
   ]
  },
  {
   "cell_type": "code",
   "execution_count": 1,
   "metadata": {},
   "outputs": [],
   "source": [
    "# let's repeat this experiment  but without inverting the phase"
   ]
  },
  {
   "cell_type": "code",
   "execution_count": 4,
   "metadata": {},
   "outputs": [
    {
     "data": {
      "text/plain": [
       "array([0.00000000e+00, 9.99029152e+06, 1.99903583e+07, 2.99904250e+07,\n",
       "       3.99904918e+07, 4.99905586e+07, 5.99906253e+07, 6.99906921e+07,\n",
       "       7.99907588e+07, 8.99908256e+07, 9.99908923e+07, 1.09990959e+08,\n",
       "       1.19991026e+08, 1.29991093e+08, 1.39991159e+08, 1.49991226e+08,\n",
       "       1.59991293e+08, 1.69991360e+08, 1.79991426e+08, 1.89991493e+08,\n",
       "       1.99991560e+08, 2.09991627e+08, 2.19991693e+08, 2.29991760e+08,\n",
       "       2.39991827e+08, 2.49991894e+08, 2.59991960e+08, 2.69992027e+08,\n",
       "       2.79992094e+08, 2.89992161e+08, 2.99992227e+08])"
      ]
     },
     "execution_count": 4,
     "metadata": {},
     "output_type": "execute_result"
    }
   ],
   "source": [
    "Fs = 1.28125e9\n",
    "N_samples = 131072;\n",
    "fundamental_freq = Fs/(N_samples-1)\n",
    "freq_desired = np.linspace(0,300e6,31)\n",
    "freq_realistic = np.floor(freq_desired / fundamental_freq) * fundamental_freq\n",
    "t = np.arange(N_samples)\n",
    "freq_realistic"
   ]
  },
  {
   "cell_type": "code",
   "execution_count": 6,
   "metadata": {},
   "outputs": [
    {
     "data": {
      "text/plain": [
       "array([9.81247997e+08, 9.91248064e+08, 1.00124813e+09, 1.01124820e+09,\n",
       "       1.02124826e+09, 1.03124833e+09, 1.04124840e+09, 1.05124846e+09,\n",
       "       1.06124853e+09, 1.07124860e+09, 1.08124866e+09, 1.09124873e+09,\n",
       "       1.10124880e+09, 1.11124887e+09, 1.12124893e+09, 1.13124900e+09,\n",
       "       1.14124907e+09, 1.15124913e+09, 1.16124920e+09, 1.17124927e+09,\n",
       "       1.18124933e+09, 1.19124940e+09, 1.20124947e+09, 1.21124953e+09,\n",
       "       1.22124960e+09, 1.23124967e+09, 1.24124973e+09, 1.25124980e+09,\n",
       "       1.26124987e+09, 1.27124993e+09, 1.28124022e+09])"
      ]
     },
     "execution_count": 6,
     "metadata": {},
     "output_type": "execute_result"
    }
   ],
   "source": [
    "# now generate the negative side\n",
    "freq_desired = np.linspace(-300e6+1.28125e9,1.28125e9,31)\n",
    "freq_realistic2 = np.floor(freq_desired / fundamental_freq) * fundamental_freq\n",
    "freq_realistic2"
   ]
  },
  {
   "cell_type": "code",
   "execution_count": 7,
   "metadata": {},
   "outputs": [
    {
     "data": {
      "text/plain": [
       "31"
      ]
     },
     "execution_count": 7,
     "metadata": {},
     "output_type": "execute_result"
    }
   ],
   "source": [
    "freq_realistic2.size"
   ]
  },
  {
   "cell_type": "code",
   "execution_count": 10,
   "metadata": {},
   "outputs": [],
   "source": [
    "# we want to drop the last one and create a total vector\n",
    "freq_realistic_total = [freq_realistic, freq_realistic2]"
   ]
  },
  {
   "cell_type": "code",
   "execution_count": 16,
   "metadata": {},
   "outputs": [],
   "source": [
    "freq_realistic_total = np.append(freq_realistic, freq_realistic2)"
   ]
  },
  {
   "cell_type": "code",
   "execution_count": 20,
   "metadata": {},
   "outputs": [
    {
     "data": {
      "text/plain": [
       "61"
      ]
     },
     "execution_count": 20,
     "metadata": {},
     "output_type": "execute_result"
    }
   ],
   "source": [
    "freq_realistic_total[0:61].size"
   ]
  },
  {
   "cell_type": "code",
   "execution_count": 40,
   "metadata": {},
   "outputs": [],
   "source": [
    "# better idea, create a -10MHz tone\n",
    "sig_tone = np.cos(2*np.pi*1/Fs*t) + 1j*np.sin(2*np.pi*1/Fs*t)\n",
    "sig_tone2 = np.cos(2*np.pi*(Fs+1)/Fs*t) + np.sin(2*np.pi*(Fs+1)/Fs*t)"
   ]
  },
  {
   "cell_type": "code",
   "execution_count": 41,
   "metadata": {},
   "outputs": [
    {
     "name": "stderr",
     "output_type": "stream",
     "text": [
      "C:\\Users\\zstechly\\AppData\\Local\\Continuum\\anaconda3\\lib\\site-packages\\numpy\\core\\numeric.py:492: ComplexWarning: Casting complex values to real discards the imaginary part\n",
      "  return array(a, dtype, copy=False, order=order)\n",
      "C:\\Users\\zstechly\\AppData\\Local\\Continuum\\anaconda3\\lib\\site-packages\\ipykernel_launcher.py:2: MatplotlibDeprecationWarning: pyplot.hold is deprecated.\n",
      "    Future behavior will be consistent with the long-time default:\n",
      "    plot commands add elements without first clearing the\n",
      "    Axes and/or Figure.\n",
      "  \n",
      "C:\\Users\\zstechly\\AppData\\Local\\Continuum\\anaconda3\\lib\\site-packages\\matplotlib\\__init__.py:911: MatplotlibDeprecationWarning: axes.hold is deprecated. Please remove it from your matplotlibrc and/or style files.\n",
      "  mplDeprecation)\n",
      "C:\\Users\\zstechly\\AppData\\Local\\Continuum\\anaconda3\\lib\\site-packages\\matplotlib\\rcsetup.py:156: MatplotlibDeprecationWarning: axes.hold is deprecated, will be removed in 3.0\n",
      "  mplDeprecation)\n"
     ]
    },
    {
     "data": {
      "text/plain": [
       "[<matplotlib.lines.Line2D at 0x1e09de41828>]"
      ]
     },
     "execution_count": 41,
     "metadata": {},
     "output_type": "execute_result"
    },
    {
     "data": {
      "image/png": "[encoded data removed]",
      "text/plain": [
       "<Figure size 432x288 with 1 Axes>"
      ]
     },
     "metadata": {},
     "output_type": "display_data"
    }
   ],
   "source": [
    "plt.plot(sig_tone[0:1000])\n",
    "plt.hold(True)\n",
    "plt.plot(sig_tone2[0:1000])"
   ]
  },
  {
   "cell_type": "code",
   "execution_count": null,
   "metadata": {},
   "outputs": [],
   "source": []
  }
 ],
 "metadata": {
  "kernelspec": {
   "display_name": "Python 3",
   "language": "python",
   "name": "python3"
  },
  "language_info": {
   "codemirror_mode": {
    "name": "ipython",
    "version": 3
   },
   "file_extension": ".py",
   "mimetype": "text/x-python",
   "name": "python",
   "nbconvert_exporter": "python",
   "pygments_lexer": "ipython3",
   "version": "3.6.5"
  }
 },
 "nbformat": 4,
 "nbformat_minor": 2
}
