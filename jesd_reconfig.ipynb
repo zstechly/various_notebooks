{
 "cells": [
  {
   "cell_type": "code",
   "execution_count": 1,
   "metadata": {},
   "outputs": [],
   "source": [
    "import time"
   ]
  },
  {
   "cell_type": "code",
   "execution_count": 2,
   "metadata": {},
   "outputs": [],
   "source": [
    "addr = int(0x24)\n",
    "data = int(0xFF3F)\n",
    "initial_address = int(0x30)\n",
    "fpga_id = 'txbb'"
   ]
  },
  {
   "cell_type": "code",
   "execution_count": 3,
   "metadata": {},
   "outputs": [],
   "source": [
    "def writeTransaction(addr, data):\n",
    "    act_addr = initial_address\n",
    "    pmed_cmd1 = 'pmed --' + fpga_id + ' -a ' + str(hex(act_addr)) + ' -d ' + str(hex(addr))\n",
    "    act_addr = act_addr + 4\n",
    "    pmed_cmd2 = 'pmed --' + fpga_id + ' -a ' + str(hex(act_addr)) + ' -d ' + str(hex(data))\n",
    "    act_addr = act_addr + 4\n",
    "    pmed_cmd3 = 'pmed --' + fpga_id + ' -a ' + str(hex(act_addr)) + ' -d 1' \n",
    "    print(pmed_cmd1)\n",
    "    print(pmed_cmd2)\n",
    "    print(pmed_cmd3)\n",
    "        "
   ]
  },
  {
   "cell_type": "code",
   "execution_count": 4,
   "metadata": {},
   "outputs": [
    {
     "name": "stdout",
     "output_type": "stream",
     "text": [
      "pmed --txbb -a 0x30 -d 0x24\n",
      "pmed --txbb -a 0x34 -d 0xff3f\n",
      "pmed --txbb -a 0x38 -d 1\n"
     ]
    }
   ],
   "source": [
    "writeTransaction(addr, data)"
   ]
  },
  {
   "cell_type": "code",
   "execution_count": 27,
   "metadata": {},
   "outputs": [],
   "source": [
    "def readTransaction(addr):\n",
    "    act_addr = initial_address\n",
    "    pmed_cmd1 = 'pmed --' + fpga_id + ' -a ' + str(hex(act_addr)) + ' -d ' + str(hex(addr))\n",
    "    act_addr = act_addr + 12\n",
    "    pmed_cmd2 = 'pmed --' + fpga_id + ' -a ' + str(hex(act_addr)) + ' -d 1'\n",
    "    act_addr  = act_addr + 4\n",
    "    addr_hex = str(hex(act_addr))\n",
    "    pmed_cmd3 = 'pmed --' + fpga_id + ' -a ' + addr_hex + ' -r 1'\n",
    "    \n",
    "    expect_line = \"0x000000\" + addr_hex[-2:]\n",
    "    print(len(addr_hex))\n",
    "    print(pmed_cmd1)\n",
    "    print(pmed_cmd2)\n",
    "    print(pmed_cmd3)\n",
    "    print(expect_line)\n",
    "\n",
    "    "
   ]
  },
  {
   "cell_type": "code",
   "execution_count": 28,
   "metadata": {},
   "outputs": [
    {
     "name": "stdout",
     "output_type": "stream",
     "text": [
      "4\n",
      "pmed --txbb -a 0x30 -d 0x24\n",
      "pmed --txbb -a 0x3c -d 1\n",
      "pmed --txbb -a 0x40 -r 1\n",
      "0x00000040\n"
     ]
    }
   ],
   "source": [
    "readTransaction(addr)"
   ]
  },
  {
   "cell_type": "code",
   "execution_count": 20,
   "metadata": {},
   "outputs": [
    {
     "data": {
      "text/plain": [
       "32"
      ]
     },
     "execution_count": 20,
     "metadata": {},
     "output_type": "execute_result"
    }
   ],
   "source": [
    "0x70-0x50"
   ]
  },
  {
   "cell_type": "code",
   "execution_count": 23,
   "metadata": {},
   "outputs": [],
   "source": [
    "# so core0 is based at 0x50\n",
    "# core1 would be based at 0x70\n",
    "# so script will specify core, addr, data or core, addr for reads\n",
    "# initial address would be equal to 0x50, then follow the normal rules\n",
    "# a single script for all jesd cores"
   ]
  },
  {
   "cell_type": "code",
   "execution_count": 25,
   "metadata": {},
   "outputs": [
    {
     "ename": "NameError",
     "evalue": "name 'length' is not defined",
     "output_type": "error",
     "traceback": [
      "\u001b[1;31m---------------------------------------------------------------------------\u001b[0m",
      "\u001b[1;31mNameError\u001b[0m                                 Traceback (most recent call last)",
      "\u001b[1;32m<ipython-input-25-212d6480fbdd>\u001b[0m in \u001b[0;36m<module>\u001b[1;34m()\u001b[0m\n\u001b[1;32m----> 1\u001b[1;33m \u001b[0mlength\u001b[0m\u001b[1;33m(\u001b[0m\u001b[0maddr_hex\u001b[0m\u001b[1;33m)\u001b[0m\u001b[1;33m\u001b[0m\u001b[0m\n\u001b[0m",
      "\u001b[1;31mNameError\u001b[0m: name 'length' is not defined"
     ]
    }
   ],
   "source": []
  },
  {
   "cell_type": "code",
   "execution_count": null,
   "metadata": {},
   "outputs": [],
   "source": []
  }
 ],
 "metadata": {
  "kernelspec": {
   "display_name": "Python 3",
   "language": "python",
   "name": "python3"
  },
  "language_info": {
   "codemirror_mode": {
    "name": "ipython",
    "version": 3
   },
   "file_extension": ".py",
   "mimetype": "text/x-python",
   "name": "python",
   "nbconvert_exporter": "python",
   "pygments_lexer": "ipython3",
   "version": "3.6.5"
  }
 },
 "nbformat": 4,
 "nbformat_minor": 2
}
