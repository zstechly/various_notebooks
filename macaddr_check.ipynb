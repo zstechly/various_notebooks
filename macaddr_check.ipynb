{
 "cells": [
  {
   "cell_type": "code",
   "execution_count": 1,
   "metadata": {},
   "outputs": [],
   "source": [
    "mac_addr = \"00:A0:BC:67:9D:21\""
   ]
  },
  {
   "cell_type": "code",
   "execution_count": 2,
   "metadata": {},
   "outputs": [],
   "source": [
    "mac_addr_split = mac_addr.split(':')"
   ]
  },
  {
   "cell_type": "code",
   "execution_count": 3,
   "metadata": {},
   "outputs": [
    {
     "data": {
      "text/plain": [
       "['00', 'A0', 'BC', '67', '9D', '21']"
      ]
     },
     "execution_count": 3,
     "metadata": {},
     "output_type": "execute_result"
    }
   ],
   "source": [
    "mac_addr_split"
   ]
  },
  {
   "cell_type": "code",
   "execution_count": 4,
   "metadata": {},
   "outputs": [
    {
     "data": {
      "text/plain": [
       "6"
      ]
     },
     "execution_count": 4,
     "metadata": {},
     "output_type": "execute_result"
    }
   ],
   "source": [
    "len(mac_addr_split)"
   ]
  },
  {
   "cell_type": "code",
   "execution_count": 5,
   "metadata": {},
   "outputs": [
    {
     "name": "stdout",
     "output_type": "stream",
     "text": [
      "pmed --txbb -a 0x11CC -d 0x00\n",
      "pmed --txbb -a 0x11CC -d 0xA0\n",
      "pmed --txbb -a 0x11CC -d 0xBC\n",
      "pmed --txbb -a 0x11CC -d 0x67\n",
      "pmed --txbb -a 0x11CC -d 0x9D\n",
      "pmed --txbb -a 0x11CC -d 0x21\n"
     ]
    }
   ],
   "source": [
    "for x in mac_addr_split:\n",
    "    print('pmed --txbb -a 0x11CC -d 0x' + x)"
   ]
  },
  {
   "cell_type": "code",
   "execution_count": 3,
   "metadata": {},
   "outputs": [],
   "source": [
    "serial_number = \"K102818500001\""
   ]
  },
  {
   "cell_type": "code",
   "execution_count": 4,
   "metadata": {},
   "outputs": [
    {
     "name": "stdout",
     "output_type": "stream",
     "text": [
      "K\n",
      "1\n",
      "0\n",
      "2\n",
      "8\n",
      "1\n",
      "8\n",
      "5\n",
      "0\n",
      "0\n",
      "0\n",
      "0\n",
      "1\n"
     ]
    }
   ],
   "source": [
    "for element in serial_number:\n",
    "    print(element)"
   ]
  },
  {
   "cell_type": "code",
   "execution_count": 6,
   "metadata": {},
   "outputs": [],
   "source": [
    "serial_number_byte = []\n",
    "for element in serial_number:\n",
    "    serial_number_byte.append(str(ord(element)))\n"
   ]
  },
  {
   "cell_type": "code",
   "execution_count": 27,
   "metadata": {},
   "outputs": [
    {
     "name": "stdout",
     "output_type": "stream",
     "text": [
      "['0x4b', '0x31', '0x30', '0x32', '0x38', '0x31', '0x38', '0x35', '0x30', '0x30', '0x30', '0x30', '0x31']\n"
     ]
    }
   ],
   "source": [
    "print(serial_number_byte)"
   ]
  },
  {
   "cell_type": "code",
   "execution_count": 28,
   "metadata": {},
   "outputs": [
    {
     "ename": "ValueError",
     "evalue": "invalid literal for int() with base 10: '0x4b'",
     "output_type": "error",
     "traceback": [
      "\u001b[1;31m---------------------------------------------------------------------------\u001b[0m",
      "\u001b[1;31mValueError\u001b[0m                                Traceback (most recent call last)",
      "\u001b[1;32m<ipython-input-28-36053bdf55d2>\u001b[0m in \u001b[0;36m<module>\u001b[1;34m()\u001b[0m\n\u001b[0;32m      1\u001b[0m \u001b[1;31m# the byte string is in decimal. Convert it to hex\u001b[0m\u001b[1;33m\u001b[0m\u001b[1;33m\u001b[0m\u001b[0m\n\u001b[0;32m      2\u001b[0m \u001b[1;32mfor\u001b[0m \u001b[0mx\u001b[0m\u001b[1;33m,\u001b[0m \u001b[0mitem\u001b[0m \u001b[1;32min\u001b[0m \u001b[0menumerate\u001b[0m\u001b[1;33m(\u001b[0m\u001b[0mserial_number_byte\u001b[0m\u001b[1;33m)\u001b[0m\u001b[1;33m:\u001b[0m\u001b[1;33m\u001b[0m\u001b[0m\n\u001b[1;32m----> 3\u001b[1;33m     \u001b[0mserial_number_byte\u001b[0m\u001b[1;33m[\u001b[0m\u001b[0mx\u001b[0m\u001b[1;33m]\u001b[0m \u001b[1;33m=\u001b[0m \u001b[0mhex\u001b[0m\u001b[1;33m(\u001b[0m\u001b[0mint\u001b[0m\u001b[1;33m(\u001b[0m\u001b[0mitem\u001b[0m\u001b[1;33m)\u001b[0m\u001b[1;33m)\u001b[0m\u001b[1;33m\u001b[0m\u001b[0m\n\u001b[0m",
      "\u001b[1;31mValueError\u001b[0m: invalid literal for int() with base 10: '0x4b'"
     ]
    }
   ],
   "source": [
    "# the byte string is in decimal. Convert it to hex\n",
    "for x, item in enumerate(serial_number_byte):\n",
    "    serial_number_byte[x] = hex(int(item))\n",
    "\n"
   ]
  },
  {
   "cell_type": "code",
   "execution_count": 35,
   "metadata": {},
   "outputs": [
    {
     "name": "stdout",
     "output_type": "stream",
     "text": [
      "['0x4b', '0x31', '0x30', '0x32', '0x38', '0x31', '0x38', '0x35', '0x30', '0x30', '0x30', '0x30', '0x31']\n"
     ]
    }
   ],
   "source": [
    "print(serial_number_byte)"
   ]
  },
  {
   "cell_type": "code",
   "execution_count": 36,
   "metadata": {},
   "outputs": [
    {
     "name": "stdout",
     "output_type": "stream",
     "text": [
      "75\n"
     ]
    }
   ],
   "source": [
    "print(int(serial_number_byte[0],16))"
   ]
  },
  {
   "cell_type": "code",
   "execution_count": 38,
   "metadata": {},
   "outputs": [
    {
     "name": "stdout",
     "output_type": "stream",
     "text": [
      "pmed --rxa -a 0x11CC -d 0x4b\n",
      "pmed --rxa -a 0x11CC -d 0x31\n",
      "pmed --rxa -a 0x11CC -d 0x30\n",
      "pmed --rxa -a 0x11CC -d 0x32\n",
      "pmed --rxa -a 0x11CC -d 0x38\n",
      "pmed --rxa -a 0x11CC -d 0x31\n",
      "pmed --rxa -a 0x11CC -d 0x38\n",
      "pmed --rxa -a 0x11CC -d 0x35\n",
      "pmed --rxa -a 0x11CC -d 0x30\n",
      "pmed --rxa -a 0x11CC -d 0x30\n",
      "pmed --rxa -a 0x11CC -d 0x30\n",
      "pmed --rxa -a 0x11CC -d 0x30\n",
      "pmed --rxa -a 0x11CC -d 0x31\n"
     ]
    }
   ],
   "source": [
    "for x in serial_number_byte:\n",
    "    print('pmed --rxa -a 0x11CC -d ' + x)\n",
    "    #telconn1.sendline('pmed --rxa -a 0x11CC -d 0x' + x)\n",
    "    #time.sleep(0.1)\n"
   ]
  },
  {
   "cell_type": "code",
   "execution_count": null,
   "metadata": {},
   "outputs": [],
   "source": []
  },
  {
   "cell_type": "code",
   "execution_count": null,
   "metadata": {},
   "outputs": [],
   "source": []
  }
 ],
 "metadata": {
  "kernelspec": {
   "display_name": "Python 3",
   "language": "python",
   "name": "python3"
  },
  "language_info": {
   "codemirror_mode": {
    "name": "ipython",
    "version": 3
   },
   "file_extension": ".py",
   "mimetype": "text/x-python",
   "name": "python",
   "nbconvert_exporter": "python",
   "pygments_lexer": "ipython3",
   "version": "3.6.5"
  }
 },
 "nbformat": 4,
 "nbformat_minor": 2
}
