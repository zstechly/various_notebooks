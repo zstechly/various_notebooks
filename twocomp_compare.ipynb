{
 "cells": [
  {
   "cell_type": "code",
   "execution_count": 2,
   "metadata": {},
   "outputs": [],
   "source": [
    "def two_complement(value, bit_width):\n",
    "    \"\"\"\n",
    "    Two's Complement Conversion of Integer\n",
    "        :param   int value:     value to convert\n",
    "        :param   int bit_width: bit width of value\n",
    "        :returns int value:     Two's Complement of input value\n",
    "    \"\"\"\n",
    "    if not isinstance(value, int):\n",
    "        raise TypeError(\"int expected got %s\" % type(value))\n",
    "    if not isinstance(value, int):\n",
    "        raise TypeError(\"int expected got %s\" % type(bit_width))\n",
    "\n",
    "    if value > (2 ** (bit_width - 1) - 1):\n",
    "        raise Exception(\"NULL: bit conversion failed, too positive\")\n",
    "    if value < -1 * (2 ** bit_width):\n",
    "        raise Exception(\"NULL: bit conversion failed, too negative\")\n",
    "    # handle negative calculation\n",
    "    if value < 0:\n",
    "        # wrap around to larger positive value, since hex(-100) = -0x64, a not useful response\n",
    "        value = value + 2 ** bit_width\n",
    "\n",
    "    # now if the value was positive, we want it to take up the correct number of bits\n",
    "    value = value & int(\"1\" * bit_width, 2)\n",
    "\n",
    "    return value"
   ]
  },
  {
   "cell_type": "code",
   "execution_count": 3,
   "metadata": {},
   "outputs": [],
   "source": [
    "\n",
    "def TwoComplement(value,bitwidth):\n",
    "    value = int(value)\n",
    "    if (value > (2**(bitwidth-1) - 1)):\n",
    "        print('bit conversion failed, too positive')\n",
    "        return \"NULL\"\n",
    "    if (value < -(2**(bitwidth))):\n",
    "        print('bit conversiion failed, too negative')\n",
    "        return \"NULL\"\n",
    "    # handle negative calculation\n",
    "    if (value < 0):\n",
    "        # wrap around to larger positive value, since\n",
    "        # hex(-100) = -0x64, a not useful response\n",
    "        value = value + 2**bitwidth;\n",
    "    value_string = hex(value)\n",
    "    # now if the value was positive, we want it\n",
    "    # to take up the correct number of bits\n",
    "    # chop of the 0x portion\n",
    "    value_string = value_string[2: ]\n",
    "    zeros_to_pad = bitwidth // 4 - len(value_string)\n",
    "    string_out = zeros_to_pad*'0' + value_string\n",
    "    return string_out\n"
   ]
  },
  {
   "cell_type": "code",
   "execution_count": 13,
   "metadata": {},
   "outputs": [
    {
     "name": "stdout",
     "output_type": "stream",
     "text": [
      "Frequency at ADC is at-1500\n",
      "b512bb512bb6\n"
     ]
    }
   ],
   "source": [
    "input_freq = 1250\n",
    "adc_freq = input_freq-2750\n",
    "#adc_freq = 0\n",
    "print('Frequency at ADC is at' + str(adc_freq))\n",
    "# convert to NCO\n",
    "nco_step = int(adc_freq / 5125 * 2**48)\n",
    "value = TwoComplement(nco_step, 48)\n",
    "print(value)\n"
   ]
  },
  {
   "cell_type": "code",
   "execution_count": 14,
   "metadata": {},
   "outputs": [
    {
     "name": "stdout",
     "output_type": "stream",
     "text": [
      "Frequency at ADC is at-1500\n",
      "199092056697782\n"
     ]
    }
   ],
   "source": [
    "input_freq = 1250\n",
    "adc_freq = input_freq-2750\n",
    "#adc_freq = 0\n",
    "print('Frequency at ADC is at' + str(adc_freq))\n",
    "# convert to NCO\n",
    "nco_step = int(adc_freq / 5125 * 2**48)\n",
    "value = two_complement(nco_step, 48)\n",
    "print(value)"
   ]
  },
  {
   "cell_type": "code",
   "execution_count": 11,
   "metadata": {},
   "outputs": [
    {
     "data": {
      "text/plain": [
       "'0xb512bb512bb6'"
      ]
     },
     "execution_count": 11,
     "metadata": {},
     "output_type": "execute_result"
    }
   ],
   "source": [
    "hex(199092056697782)"
   ]
  },
  {
   "cell_type": "code",
   "execution_count": null,
   "metadata": {},
   "outputs": [],
   "source": []
  }
 ],
 "metadata": {
  "kernelspec": {
   "display_name": "Python 3",
   "language": "python",
   "name": "python3"
  },
  "language_info": {
   "codemirror_mode": {
    "name": "ipython",
    "version": 3
   },
   "file_extension": ".py",
   "mimetype": "text/x-python",
   "name": "python",
   "nbconvert_exporter": "python",
   "pygments_lexer": "ipython3",
   "version": "3.6.5"
  }
 },
 "nbformat": 4,
 "nbformat_minor": 2
}
