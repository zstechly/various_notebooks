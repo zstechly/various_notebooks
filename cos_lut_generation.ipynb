{
 "cells": [
  {
   "cell_type": "code",
   "execution_count": 20,
   "metadata": {},
   "outputs": [],
   "source": [
    "%matplotlib inline\n",
    "import numpy as np\n",
    "from matplotlib import pyplot as plt"
   ]
  },
  {
   "cell_type": "code",
   "execution_count": 21,
   "metadata": {},
   "outputs": [],
   "source": [
    "def ConvertToHex(value,bitwidth):\n",
    "    \"\"\"\n",
    "    Converts the value field to 2's compliment hex format\n",
    "    :param value:  value to convert\n",
    "    :param bitwidth:   bitwidth of number\n",
    "    :return:  converted value\n",
    "    \"\"\"\n",
    "    value = int(value)\n",
    "    if (value > (2**(bitwidth-1) - 1)):\n",
    "        print('bit conversion failed, too positive')\n",
    "        return \"NULL\"\n",
    "    if (value < -(2**(bitwidth))):\n",
    "        print('bit conversiion failed, too negative')\n",
    "        return \"NULL\"\n",
    "    # handle negative calculation\n",
    "    if (value < 0):\n",
    "        # wrap around to larger positive value, since\n",
    "        # hex(-100) = -0x64, a not useful response\n",
    "        value = value + 2**bitwidth;\n",
    "    value_string = hex(value)\n",
    "    # now if the value was positive, we want it\n",
    "    # to take up the correct number of bits\n",
    "    # chop of the 0x portion\n",
    "    value_string = value_string[2: ]\n",
    "    zeros_to_pad = bitwidth // 4 - len(value_string)\n",
    "    string_out = zeros_to_pad*'0' + value_string\n",
    "    return string_out\n"
   ]
  },
  {
   "cell_type": "code",
   "execution_count": 27,
   "metadata": {},
   "outputs": [
    {
     "data": {
      "text/plain": [
       "1025"
      ]
     },
     "execution_count": 27,
     "metadata": {},
     "output_type": "execute_result"
    }
   ],
   "source": [
    "t = np.linspace(0,2*np.pi,1025)\n",
    "t.size"
   ]
  },
  {
   "cell_type": "code",
   "execution_count": 28,
   "metadata": {},
   "outputs": [],
   "source": [
    "cos_lut = np.cos(t)\n",
    "cos_lut = cos_lut[0:1024]"
   ]
  },
  {
   "cell_type": "code",
   "execution_count": 29,
   "metadata": {},
   "outputs": [
    {
     "data": {
      "text/plain": [
       "[<matplotlib.lines.Line2D at 0x19f485ba6a0>]"
      ]
     },
     "execution_count": 29,
     "metadata": {},
     "output_type": "execute_result"
    },
    {
     "data": {
      "image/png": "[encoded data removed]",
      "text/plain": [
       "<Figure size 432x288 with 1 Axes>"
      ]
     },
     "metadata": {},
     "output_type": "display_data"
    }
   ],
   "source": [
    "plt.plot(cos_lut)"
   ]
  },
  {
   "cell_type": "code",
   "execution_count": 34,
   "metadata": {},
   "outputs": [],
   "source": [
    "cos_lut_scale = (2**15-1)*cos_lut"
   ]
  },
  {
   "cell_type": "code",
   "execution_count": 35,
   "metadata": {},
   "outputs": [],
   "source": [
    "cos_lut_scale_floor = np.floor(cos_lut_scale)\n",
    "cos_lut_scale_round = np.round(cos_lut_scale)"
   ]
  },
  {
   "cell_type": "code",
   "execution_count": 36,
   "metadata": {},
   "outputs": [
    {
     "data": {
      "text/plain": [
       "[<matplotlib.lines.Line2D at 0x19f48c88d30>]"
      ]
     },
     "execution_count": 36,
     "metadata": {},
     "output_type": "execute_result"
    },
    {
     "data": {
      "image/png": "[encoded data removed]",
      "text/plain": [
       "<Figure size 432x288 with 1 Axes>"
      ]
     },
     "metadata": {},
     "output_type": "display_data"
    }
   ],
   "source": [
    "plt.plot(cos_lut_scale_floor  - cos_lut_scale_round)"
   ]
  },
  {
   "cell_type": "code",
   "execution_count": 43,
   "metadata": {},
   "outputs": [],
   "source": [
    "cos_lut_round_hex = []\n",
    "cos_lut_floor_hex = []\n",
    "for x, item in enumerate(cos_lut_scale_floor):\n",
    "    cos_lut_floor_hex.append(ConvertToHex(item, 16))\n",
    "    cos_lut_round_hex.append(ConvertToHex(cos_lut_scale_round[x], 16))"
   ]
  },
  {
   "cell_type": "code",
   "execution_count": 45,
   "metadata": {},
   "outputs": [
    {
     "data": {
      "text/plain": [
       "'7ffe'"
      ]
     },
     "execution_count": 45,
     "metadata": {},
     "output_type": "execute_result"
    }
   ],
   "source": [
    "cos_lut_floor_hex[1]"
   ]
  },
  {
   "cell_type": "code",
   "execution_count": 46,
   "metadata": {},
   "outputs": [],
   "source": [
    "f1 = open('cos_floor.dat', 'w')\n",
    "f2 = open('cos_round.dat', 'w')\n",
    "for floored, rounded in zip(cos_lut_floor_hex, cos_lut_round_hex):\n",
    "    f1.write(f'{floored}\\n')\n",
    "    f2.write(f'{rounded}\\n')\n",
    "f1.close()\n",
    "f2.close()\n"
   ]
  },
  {
   "cell_type": "code",
   "execution_count": 47,
   "metadata": {},
   "outputs": [
    {
     "data": {
      "text/plain": [
       "'7fff'"
      ]
     },
     "execution_count": 47,
     "metadata": {},
     "output_type": "execute_result"
    }
   ],
   "source": [
    "cos_lut_round_hex[0]"
   ]
  },
  {
   "cell_type": "code",
   "execution_count": 48,
   "metadata": {},
   "outputs": [
    {
     "data": {
      "text/plain": [
       "'0000'"
      ]
     },
     "execution_count": 48,
     "metadata": {},
     "output_type": "execute_result"
    }
   ],
   "source": [
    "cos_lut_round_hex[768]"
   ]
  },
  {
   "cell_type": "code",
   "execution_count": 49,
   "metadata": {},
   "outputs": [
    {
     "data": {
      "text/plain": [
       "'ffff'"
      ]
     },
     "execution_count": 49,
     "metadata": {},
     "output_type": "execute_result"
    }
   ],
   "source": [
    "cos_lut_floor_hex[768]"
   ]
  },
  {
   "cell_type": "code",
   "execution_count": null,
   "metadata": {},
   "outputs": [],
   "source": []
  }
 ],
 "metadata": {
  "kernelspec": {
   "display_name": "Python 3",
   "language": "python",
   "name": "python3"
  },
  "language_info": {
   "codemirror_mode": {
    "name": "ipython",
    "version": 3
   },
   "file_extension": ".py",
   "mimetype": "text/x-python",
   "name": "python",
   "nbconvert_exporter": "python",
   "pygments_lexer": "ipython3",
   "version": "3.6.5"
  }
 },
 "nbformat": 4,
 "nbformat_minor": 2
}
